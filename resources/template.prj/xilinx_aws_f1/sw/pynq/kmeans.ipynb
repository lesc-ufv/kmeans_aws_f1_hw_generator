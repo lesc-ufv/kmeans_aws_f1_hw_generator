{
 "cells": [
  {
   "cell_type": "code",
   "execution_count": null,
   "metadata": {},
   "outputs": [],
   "source": [
    "# import glob\n",
    "# import os\n",
    "\n",
    "# platform = glob.glob(\"/tools/aws-fpga/Vitis/aws_platform/*/*.xpfm\")[0]\n",
    "# !emconfigutil -f $platform --nd 1 &> /dev/null\n",
    "\n",
    "# os.environ['EMCONFIG_PATH'] = os.environ['PWD']+'/6-kmeans'\n",
    "# os.environ['XCL_EMULATION_MODE'] = 'hw_emu'\n",
    "\n",
    "# xclbin_sim = glob.glob(\"./hw/kmeans_4x4/xilinx_aws_f1/hw/simulate/*/*.xclbin\")[0]"
   ]
  },
  {
   "cell_type": "code",
   "execution_count": null,
   "metadata": {},
   "outputs": [],
   "source": [
    "import numpy as np\n",
    "import pandas as pd\n",
    "\n",
    "df = pd.read_csv('../../../../USCensus1990.data.txt', header=None, nrows=2000000, dtype=np.short, usecols=[1,2,3,4])"
   ]
  },
  {
   "cell_type": "code",
   "execution_count": null,
   "metadata": {},
   "outputs": [],
   "source": [
    "from sklearn.cluster import KMeans\n",
    "\n",
    "%time kmeans = KMeans(n_clusters=4,max_iter = 100, random_state=0).fit(df)\n",
    "\n",
    "%time p = kmeans.predict(df)\n"
   ]
  },
  {
   "cell_type": "code",
   "execution_count": null,
   "metadata": {},
   "outputs": [],
   "source": [
    "%time p = kmeans.predict(df)"
   ]
  },
  {
   "cell_type": "code",
   "execution_count": null,
   "metadata": {},
   "outputs": [],
   "source": [
    "df.info"
   ]
  },
  {
   "cell_type": "code",
   "execution_count": null,
   "metadata": {},
   "outputs": [],
   "source": [
    "import glob\n",
    "import os\n",
    "import numpy as np\n",
    "import pandas as pd\n",
    "\n",
    "from kmeans import KMeansFPGA\n",
    "\n",
    "xclbin = glob.glob(\"../../hw/synthesis/*/*.xclbin\")[0]\n",
    "\n",
    "%time km = KMeansFPGA(4,4,100,xclbin).fit(df)\n",
    "\n",
    "%time p = km.predict(df)"
   ]
  },
  {
   "cell_type": "code",
   "execution_count": null,
   "metadata": {},
   "outputs": [],
   "source": [
    "%time p = km.predict(df)"
   ]
  },
  {
   "cell_type": "code",
   "execution_count": null,
   "metadata": {},
   "outputs": [],
   "source": [
    "#km.free()"
   ]
  }
 ],
 "metadata": {
  "kernelspec": {
   "display_name": "Python 3",
   "language": "python",
   "name": "python3"
  },
  "language_info": {
   "codemirror_mode": {
    "name": "ipython",
    "version": 3
   },
   "file_extension": ".py",
   "mimetype": "text/x-python",
   "name": "python",
   "nbconvert_exporter": "python",
   "pygments_lexer": "ipython3",
   "version": "3.7.4"
  }
 },
 "nbformat": 4,
 "nbformat_minor": 5
}
